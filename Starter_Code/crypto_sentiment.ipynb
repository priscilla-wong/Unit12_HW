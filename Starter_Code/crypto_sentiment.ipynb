{
 "cells": [
  {
   "cell_type": "markdown",
   "metadata": {},
   "source": [
    "# Unit 12 - Tales from the Crypto\n",
    "\n",
    "---\n"
   ]
  },
  {
   "cell_type": "markdown",
   "metadata": {},
   "source": [
    "## 1. Sentiment Analysis\n",
    "\n",
    "Use the [newsapi](https://newsapi.org/) to pull the latest news articles for Bitcoin and Ethereum and create a DataFrame of sentiment scores for each coin.\n",
    "\n",
    "Use descriptive statistics to answer the following questions:\n",
    "1. Which coin had the highest mean positive score?\n",
    "2. Which coin had the highest negative score?\n",
    "3. Which coin had the highest positive score?"
   ]
  },
  {
   "cell_type": "code",
   "execution_count": 1,
   "metadata": {},
   "outputs": [
    {
     "name": "stderr",
     "output_type": "stream",
     "text": [
      "[nltk_data] Downloading package vader_lexicon to\n",
      "[nltk_data]     C:\\Users\\prisc\\AppData\\Roaming\\nltk_data...\n",
      "[nltk_data]   Package vader_lexicon is already up-to-date!\n",
      "\n",
      "Bad key \"text.kerning_factor\" on line 4 in\n",
      "C:\\Users\\prisc\\anaconda3\\envs\\pyvizenv\\lib\\site-packages\\matplotlib\\mpl-data\\stylelib\\_classic_test_patch.mplstyle.\n",
      "You probably need to get an updated matplotlibrc file from\n",
      "http://github.com/matplotlib/matplotlib/blob/master/matplotlibrc.template\n",
      "or from the matplotlib source distribution\n"
     ]
    }
   ],
   "source": [
    "# Initial imports\n",
    "import os\n",
    "import pandas as pd\n",
    "from dotenv import load_dotenv\n",
    "import nltk as nltk\n",
    "nltk.download('vader_lexicon')\n",
    "from nltk.sentiment.vader import SentimentIntensityAnalyzer\n",
    "analyzer = SentimentIntensityAnalyzer()\n",
    "\n",
    "%matplotlib inline"
   ]
  },
  {
   "cell_type": "code",
   "execution_count": 18,
   "metadata": {},
   "outputs": [],
   "source": [
    "# Read your api key environment variable\n",
    "from newsapi import NewsApiClient\n",
    "load_dotenv(\"api.env\")\n",
    "api_key = os.getenv(\"NEWS_API\")\n"
   ]
  },
  {
   "cell_type": "code",
   "execution_count": 19,
   "metadata": {},
   "outputs": [],
   "source": [
    "# Create a newsapi client\n",
    "newsapi = NewsApiClient(api_key=api_key)"
   ]
  },
  {
   "cell_type": "code",
   "execution_count": 20,
   "metadata": {
    "collapsed": true,
    "jupyter": {
     "outputs_hidden": true
    }
   },
   "outputs": [
    {
     "data": {
      "text/plain": [
       "{'status': 'ok',\n",
       " 'totalResults': 10019,\n",
       " 'articles': [{'source': {'id': 'techcrunch', 'name': 'TechCrunch'},\n",
       "   'author': 'Alex Wilhelm',\n",
       "   'title': 'What Square’s smashing earnings tell us about consumer bitcoin demand',\n",
       "   'description': \"Today we're talking Square earnings and its bitcoin base, especially in how it relates to the results of other entities that offer bitcoin sales.\",\n",
       "   'url': 'http://techcrunch.com/2021/05/07/what-squares-smashing-earnings-tell-us-about-consumer-bitcoin-demand/',\n",
       "   'urlToImage': 'https://techcrunch.com/wp-content/uploads/2020/05/NSussman_Techcrunch_Exchange_v3-ORNG.jpg?w=533',\n",
       "   'publishedAt': '2021-05-07T18:17:36Z',\n",
       "   'content': 'Shares of Square are up more than 6% today after the American fintech company reported a staggering $5.06 billion in revenue in its Q1 2021 earnings report, far ahead of an expected tally of $3.36 bi… [+2045 chars]'},\n",
       "  {'source': {'id': 'techcrunch', 'name': 'TechCrunch'},\n",
       "   'author': 'Rebecca Bellan',\n",
       "   'title': 'Tesla sees bitcoin as important financial tool to access cash quickly',\n",
       "   'description': 'Tesla’s relationship with bitcoin is not a dalliance, according to the comments made by the company’s CFO and dubbed “master of coin” Zach Kirkhorn during an earnings call Monday. Instead, the company believes in the longevity of bitcoin, despite its volatili…',\n",
       "   'url': 'http://techcrunch.com/2021/04/26/tesla-sees-bitcoin-as-important-financial-tool-to-access-cash-quickly/',\n",
       "   'urlToImage': 'https://techcrunch.com/wp-content/uploads/2021/02/tesla-bitcoin-alt.jpg?w=711',\n",
       "   'publishedAt': '2021-04-27T01:36:46Z',\n",
       "   'content': 'Tesla’s relationship with bitcoin is not a dalliance, according to the comments made by the company’s CFO and dubbed “master of coin” Zach Kirkhorn during an earnings call Monday. Instead, the compan… [+3073 chars]'},\n",
       "  {'source': {'id': None, 'name': 'Lifehacker.com'},\n",
       "   'author': 'Mike Winters',\n",
       "   'title': \"You Can Now Exchange Crypto on Venmo, If You're Into That Sort of Thing\",\n",
       "   'description': 'Cryptocurrency continues to gain mainstream acceptance, as PayPal announced that they have added Bitcoin, Ethereum, Bitcoin Cash, and Litecoin to its Venmo app. With a user base of 70 million, the move will certainly make it easier for people to buy crypto—bu…',\n",
       "   'url': 'https://twocents.lifehacker.com/you-can-now-exchange-crypto-on-venmo-if-youre-into-tha-1846724048',\n",
       "   'urlToImage': 'https://i.kinja-img.com/gawker-media/image/upload/c_fill,f_auto,fl_progressive,g_center,h_675,pg_1,q_80,w_1200/a1qhbu5l9fnqmien6giu.jpg',\n",
       "   'publishedAt': '2021-04-20T19:00:00Z',\n",
       "   'content': 'Cryptocurrency continues to gain mainstream acceptance, as PayPal announced that they have added Bitcoin, Ethereum, Bitcoin Cash, and Litecoin to its Venmo app. With a user base of 70 million, the mo… [+2782 chars]'},\n",
       "  {'source': {'id': 'techcrunch', 'name': 'TechCrunch'},\n",
       "   'author': 'Lucas Matney',\n",
       "   'title': 'Crypto market takes a dive with Bitcoin leading the way',\n",
       "   'description': 'Cryptocurrency prices continued to tumble Friday with Bitcoin leading the charge, with prices for the internet currency dipping below $50,000 for the first time since early March. Bitcoin is down roughly 20% week-over-week, around 30% from its all-time-high o…',\n",
       "   'url': 'http://techcrunch.com/2021/04/23/crypto-market-takes-a-dive-with-bitcoin-leading-the-way/',\n",
       "   'urlToImage': 'https://techcrunch.com/wp-content/uploads/2020/07/GettyImages-887657568.jpg?w=600',\n",
       "   'publishedAt': '2021-04-23T17:58:10Z',\n",
       "   'content': 'Cryptocurrency prices continued to tumble Friday with Bitcoin leading the charge, with prices for the internet currency dipping below $50,000 for the first time since early March.\\r\\nBitcoin is down ro… [+1222 chars]'},\n",
       "  {'source': {'id': 'techcrunch', 'name': 'TechCrunch'},\n",
       "   'author': 'Tage Kene-Okafor',\n",
       "   'title': 'African crypto usage spurs Luno as customers reach 7M',\n",
       "   'description': 'The crypto industry as a whole has seen a momentous year of growth, heavily spurred on by the entrance of institutional investors adopting bitcoin due to its store of value properties. The 2020 spike bitcoin experienced was also accelerated by its global adop…',\n",
       "   'url': 'http://techcrunch.com/2021/04/13/african-crypto-usage-spurs-luno-as-customers-reach-7m/',\n",
       "   'urlToImage': 'https://techcrunch.com/wp-content/uploads/2020/07/GettyImages-887657568.jpg?w=600',\n",
       "   'publishedAt': '2021-04-13T08:30:21Z',\n",
       "   'content': 'The crypto industry as a whole has seen a momentous year of growth, heavily spurred on by the entrance of institutional investors adopting bitcoin due to its store of value properties. The 2020 spike… [+4675 chars]'},\n",
       "  {'source': {'id': 'bbc-news', 'name': 'BBC News'},\n",
       "   'author': 'https://www.facebook.com/bbcnews',\n",
       "   'title': 'Tesla: Bitcoin sales, environmental credits boost profits',\n",
       "   'description': \"But the carmaker's profits were dented by a $299m payment to Tesla boss Elon Musk.\",\n",
       "   'url': 'https://www.bbc.co.uk/news/business-56897457',\n",
       "   'urlToImage': 'https://ichef.bbci.co.uk/news/1024/branded_news/13E5E/production/_118220518_gettyimages-1228322928.jpg',\n",
       "   'publishedAt': '2021-04-27T04:22:49Z',\n",
       "   'content': \"image copyrightGetty Images\\r\\nimage captionElon Musk's Tesla has seen a jump in profits\\r\\nTesla has posted first quarter profits of $438m (£315m) bolstered by sales of Bitcoin and environmental credits… [+2702 chars]\"},\n",
       "  {'source': {'id': None, 'name': 'Gizmodo.com'},\n",
       "   'author': 'Brian Kahn',\n",
       "   'title': 'Jack and Elon Are Promoting Bitcoin on Earth Day for Some Reason (It Makes Them Richer)',\n",
       "   'description': 'Earth Day is prime time for brands and people to promote their pre-existing products to the masses, swaddled up in a green package. So perhaps it’s no surprise that area shaman Jack Dorsey and meme enthusiast Elon Musk are pumping bitcoin, a cryptocurrency bo…',\n",
       "   'url': 'https://earther.gizmodo.com/jack-and-elon-are-promoting-bitcoin-on-earth-day-for-so-1846742228',\n",
       "   'urlToImage': 'https://i.kinja-img.com/gawker-media/image/upload/c_fill,f_auto,fl_progressive,g_center,h_675,pg_1,q_80,w_1200/qc8vtxtafpa33fn4xpxo.jpg',\n",
       "   'publishedAt': '2021-04-22T20:29:00Z',\n",
       "   'content': 'Earth Day is prime time for brands and people to promote their pre-existing products to the masses, swaddled up in a green package. So perhaps its no surprise that area shaman Jack Dorsey and meme en… [+4711 chars]'},\n",
       "  {'source': {'id': 'mashable', 'name': 'Mashable'},\n",
       "   'author': 'Stan Schroeder',\n",
       "   'title': 'Venmo now lets users buy and sell Bitcoin and Ethereum',\n",
       "   'description': 'Venmo is jumping aboard the cryptocurrency bandwagon.\\xa0\\nThe social payment service announced on Tuesday that its customers can now buy, hold, and sell cryptocurrencies within the Venmo app.\\xa0\\nFour cryptocurrencies are currently supported: Bitcoin, Ethereum, Lit…',\n",
       "   'url': 'https://mashable.com/article/venmo-crypto/',\n",
       "   'urlToImage': 'https://mondrian.mashable.com/2021%252F04%252F20%252F25%252F7a02027586334a4d9d29757c0a859526.96c21.jpg%252F1200x630.jpg?signature=I7wBwCsXyeLkGNdX3wFvzAV_v7o=',\n",
       "   'publishedAt': '2021-04-20T11:23:13Z',\n",
       "   'content': 'Venmo is jumping aboard the cryptocurrency bandwagon.\\xa0\\r\\nThe social payment service announced on Tuesday that its customers can now buy, hold, and sell cryptocurrencies within the Venmo app.\\xa0\\r\\nFour cr… [+1524 chars]'},\n",
       "  {'source': {'id': 'cnn', 'name': 'CNN'},\n",
       "   'author': 'Paul R. La Monica, CNN Business',\n",
       "   'title': 'Move over, Bitcoin. Ethereum is at an all-time high',\n",
       "   'description': \"Bitcoin prices continued their rebound Saturday, rising about 6% to nearly $58,000. But the world's largest cryptocurrency has been overshadowed lately by its younger sibling, Ethereum.\",\n",
       "   'url': 'https://www.cnn.com/2021/05/01/investing/ethereum-bitcoin-record-high/index.html',\n",
       "   'urlToImage': 'https://cdn.cnn.com/cnnnext/dam/assets/210501095348-restricted-file-ethereum-2020-super-tease.jpg',\n",
       "   'publishedAt': '2021-05-01T17:24:45Z',\n",
       "   'content': \"New York (CNN Business)Bitcoin prices continued their rebound Saturday, rising about 6% to nearly $58,000. But the world's largest cryptocurrency has been overshadowed lately by its younger sibling, … [+866 chars]\"},\n",
       "  {'source': {'id': 'reuters', 'name': 'Reuters'},\n",
       "   'author': 'Reuters Staff',\n",
       "   'title': 'MicroStrategy says non-employee directors to get fee in bitcoin - Reuters',\n",
       "   'description': 'MicroStrategy Inc, a major bitcoin corporate backer, said on Monday its non-employee directors will get fees for their services in bitcoin, instead of cash.',\n",
       "   'url': 'https://www.reuters.com/article/us-crypto-currency-microstrategy-idUSKBN2BZ1FB',\n",
       "   'urlToImage': 'https://s1.reutersmedia.net/resources_v2/images/rcom-default.png?w=800',\n",
       "   'publishedAt': '2021-04-12T12:38:00Z',\n",
       "   'content': 'By Reuters Staff\\r\\n(Reuters) -MicroStrategy Inc, a major bitcoin corporate backer, said on Monday its non-employee directors will get fees for their services in bitcoin, instead of cash.\\r\\nShares of th… [+685 chars]'},\n",
       "  {'source': {'id': 'techcrunch', 'name': 'TechCrunch'},\n",
       "   'author': 'Jonathan Shieber',\n",
       "   'title': 'Crusoe Energy is tackling energy use for cryptocurrencies and data centers and greenhouse gas emissions',\n",
       "   'description': 'The two founders of Crusoe Energy think they may have a solution to two of the largest problems facing the planet today — the increasing energy footprint of the tech industry and the greenhouse gas emissions associated with the natural gas industry. Crusoe, w…',\n",
       "   'url': 'http://techcrunch.com/2021/04/26/crusoe-energy-is-tackling-energy-use-for-cryptocurrencies-and-data-centers-and-greenhouse-gas-emissions/',\n",
       "   'urlToImage': 'https://techcrunch.com/wp-content/uploads/2021/04/GettyImages-462843546.jpg?w=600',\n",
       "   'publishedAt': '2021-04-26T15:02:54Z',\n",
       "   'content': 'The two founders of Crusoe Energy think they may have a solution to two of the largest problems facing the planet today — the increasing energy footprint of the tech industry and the greenhouse gas e… [+7655 chars]'},\n",
       "  {'source': {'id': 'mashable', 'name': 'Mashable'},\n",
       "   'author': 'Stan Schroeder',\n",
       "   'title': 'Dogecoin: Everything you need to know about the cryptocurrency',\n",
       "   'description': \"We're going to the moon.\\xa0\\nThe proponents of Dogecoin or DOGE, a cryptocurrency that started as a joke but is now one of the most popular coins around, would have you believe that the sentence above is all you need to know about Dogecoin.\\xa0\\nIn a way, they'd be …\",\n",
       "   'url': 'https://mashable.com/article/dogecoin-cryptocurrency-explainer/',\n",
       "   'urlToImage': 'https://mondrian.mashable.com/2021%252F04%252F22%252Ff0%252F0ffd0b36d9c042b6a3db0f94d82143e4.1eab3.jpg%252F1200x630.jpg?signature=NLm2yNCPnhFYt639xWbH_gYXL7Q=',\n",
       "   'publishedAt': '2021-04-22T10:14:40Z',\n",
       "   'content': \"We're going to the moon.\\xa0\\r\\nThe proponents of Dogecoin or DOGE, a cryptocurrency that started as a joke but is now one of the most popular coins around, would have you believe that the sentence above … [+6329 chars]\"},\n",
       "  {'source': {'id': 'reuters', 'name': 'Reuters'},\n",
       "   'author': 'Reuters Staff',\n",
       "   'title': 'MicroStrategy says non-employee directors to get fee in bitcoin - Reuters',\n",
       "   'description': 'MicroStrategy Inc, a major bitcoin corporate backer, said on Monday its non-employee directors will get fees for their services in bitcoin , instead of cash. (Reporting by Akanksha Rana in Bengaluru; Editing by Shinjini Ganguli)',\n",
       "   'url': 'https://www.reuters.com/article/crypto-currency-microstrategy-idUSL4N2M533T',\n",
       "   'urlToImage': 'https://s1.reutersmedia.net/resources_v2/images/rcom-default.png?w=800',\n",
       "   'publishedAt': '2021-04-12T12:20:00Z',\n",
       "   'content': 'By Reuters Staff\\r\\nApril 12 (Reuters) - MicroStrategy Inc, a major bitcoin corporate backer, said on Monday its non-employee directors will get fees for their services in bitcoin , instead of cash. (R… [+67 chars]'},\n",
       "  {'source': {'id': None, 'name': 'Slashdot.org'},\n",
       "   'author': 'EditorDavid',\n",
       "   'title': 'Elon Musk, Jack Dorsey Argue that Bitcoin Incentivises Renewable Energy',\n",
       "   'description': 'Jack Dorsey, the co-founder and CEO of Twitter, tweeted Wednesday that bitcoin \"incentivises renewable energy.\" And Elon Musk responded \"True.\" \\n\\nThe BBC adds that the tweets came \"despite experts warning otherwise.\"\\n\\nThe cyrptocurrency\\'s carbon footprint is …',\n",
       "   'url': 'https://news.slashdot.org/story/21/04/24/0456207/elon-musk-jack-dorsey-argue-that-bitcoin-incentivises-renewable-energy',\n",
       "   'urlToImage': 'https://a.fsdn.com/sd/topics/bitcoin_64.png',\n",
       "   'publishedAt': '2021-04-24T17:34:00Z',\n",
       "   'content': 'Jack Dorsey, the co-founder and CEO of Twitter, tweeted Wednesday that bitcoin \"incentivises renewable energy.\" And Elon Musk responded \"True.\"The BBC adds that the tweets came \"despite experts warni… [+1332 chars]'},\n",
       "  {'source': {'id': 'techcrunch', 'name': 'TechCrunch'},\n",
       "   'author': 'Manish Singh',\n",
       "   'title': 'Tiger Global backs Indian crypto startup Coinswitch Kuber at over $500M valuation',\n",
       "   'description': 'Coinswitch Kuber, a startup that allows young users in India to invest in cryptocurrencies, said on Thursday it has raised $25 million in a new financing round as it looks to expand its reach in India, the world’s second largest internet market and also the p…',\n",
       "   'url': 'http://techcrunch.com/2021/04/22/tiger-global-backs-indian-crypto-startup-coinswitch-kuber-at-over-500m-valuation/',\n",
       "   'urlToImage': 'https://techcrunch.com/wp-content/uploads/2018/09/cryptocurrency.jpg?w=609',\n",
       "   'publishedAt': '2021-04-22T09:32:22Z',\n",
       "   'content': 'Coinswitch Kuber, a startup that allows young users in India to invest in cryptocurrencies, said on Thursday it has raised $25 million in a new financing round as it looks to expand its reach in Indi… [+2387 chars]'},\n",
       "  {'source': {'id': 'reuters', 'name': 'Reuters'},\n",
       "   'author': 'Reuters Staff',\n",
       "   'title': 'Tesla records $27 mln in impairment losses on bitcoin investment - Reuters',\n",
       "   'description': 'Tesla records $27 mln in impairment losses on bitcoin investment\\xa0\\xa0Reuters',\n",
       "   'url': 'https://www.reuters.com/article/us-crypto-currency-tesla-idUSKBN2CF1BG',\n",
       "   'urlToImage': 'https://static.reuters.com/resources/r/?m=02&d=20210428&t=2&i=1560202159&r=LYNXMPEH3R0MC&w=800',\n",
       "   'publishedAt': '2021-04-28T10:27:00Z',\n",
       "   'content': 'By Reuters Staff\\r\\nFILE PHOTO: A Tesla supercharger is shown at a charging station in Santa Clarita, California, U.S. October 2, 2019. REUTERS/Mike Blake\\r\\n(Reuters) - Tesla Inc recorded $27 million of… [+114 chars]'},\n",
       "  {'source': {'id': 'reuters', 'name': 'Reuters'},\n",
       "   'author': 'Reuters Staff',\n",
       "   'title': 'Bitcoin falls 7.7% to $55,408 - Reuters',\n",
       "   'description': \"Bitcoin, the world's biggest and best-known cryptocurrency, dropped 7.7% to $55,408.08 on Sunday, losing $4,624.21 from its previous close.\",\n",
       "   'url': 'https://www.reuters.com/article/crypto-currency-bitcoin-idUSFWN2MA0B7',\n",
       "   'urlToImage': 'https://s1.reutersmedia.net/resources_v2/images/rcom-default.png?w=800',\n",
       "   'publishedAt': '2021-04-18T04:13:00Z',\n",
       "   'content': 'By Reuters Staff\\r\\nApril 18 (Reuters) - Bitcoin, the worlds biggest and best-known cryptocurrency, dropped 7.7% to $55,408.08 on Sunday, losing $4,624.21 from its previous close.\\r\\nEther, the coin link… [+189 chars]'},\n",
       "  {'source': {'id': 'reuters', 'name': 'Reuters'},\n",
       "   'author': 'Reuters Staff',\n",
       "   'title': 'Bitcoin hits record high of $62,575 - Reuters',\n",
       "   'description': 'Bitcoin hit a record of $62,575 on Tuesday, extending its 2021 rally to new heights.',\n",
       "   'url': 'https://www.reuters.com/article/crypto-currency-idUSL8N2M61VW',\n",
       "   'urlToImage': 'https://s1.reutersmedia.net/resources_v2/images/rcom-default.png?w=800',\n",
       "   'publishedAt': '2021-04-13T08:23:00Z',\n",
       "   'content': 'By Reuters Staff\\r\\nLONDON, April 13 (Reuters) - Bitcoin hit a record of $62,575 on Tuesday, extending its 2021 rally to new heights.\\r\\nThe worlds biggest cryptocurrency has more than doubled in price t… [+358 chars]'},\n",
       "  {'source': {'id': 'reuters', 'name': 'Reuters'},\n",
       "   'author': 'Reuters Staff',\n",
       "   'title': 'Bitcoin hits record high of $62,575 - Reuters.com',\n",
       "   'description': 'Bitcoin hit a record of $62,575 on Tuesday, extending its 2021 rally to new heights.',\n",
       "   'url': 'https://www.reuters.com/article/us-crypto-currency-idUSKBN2C00W9',\n",
       "   'urlToImage': 'https://static.reuters.com/resources/r/?m=02&d=20210413&t=2&i=1558248776&r=LYNXMPEH3C0FC&w=800',\n",
       "   'publishedAt': '2021-04-13T08:41:00Z',\n",
       "   'content': 'By Reuters Staff\\r\\nFILE PHOTO: A representation of virtual currency Bitcoin is seen in front of a stock graph in this illustration taken March 15, 2021. REUTERS/Dado Ruvic/Illustration/File Photo\\r\\nLON… [+449 chars]'},\n",
       "  {'source': {'id': 'reuters', 'name': 'Reuters'},\n",
       "   'author': 'Reuters',\n",
       "   'title': 'Bitcoin rises 6.54% to $57098.08 - Reuters',\n",
       "   'description': 'Bitcoin rose 6.54% to $57,098.08 on Friday, adding $3,504.11 to its previous close.',\n",
       "   'url': 'https://www.reuters.com/technology/bitcoin-rises-654-5709808-2021-04-30/',\n",
       "   'urlToImage': 'https://www.reuters.com/resizer/aEKlmxzZFd8TcGtj1o3wihXeu1s=/1200x628/smart/cloudfront-us-east-2.images.arcpublishing.com/reuters/5UMRLADC6NKRPNG7B6CJR2JPZE.jpg',\n",
       "   'publishedAt': '2021-04-30T20:20:00Z',\n",
       "   'content': 'The logo of the Bitcoin digital currency is seen in a shop in Marseille, France, February 7, 2021. REUTERS/Eric GaillardBitcoin rose 6.54% to $57,098.08 on Friday, adding $3,504.11 to its previous cl… [+370 chars]'}]}"
      ]
     },
     "execution_count": 20,
     "metadata": {},
     "output_type": "execute_result"
    }
   ],
   "source": [
    "# Fetch the Bitcoin news articles\n",
    "bit_articles = newsapi.get_everything(q=\"bitcoin\", language=\"en\")\n",
    "bit_articles"
   ]
  },
  {
   "cell_type": "code",
   "execution_count": 21,
   "metadata": {
    "collapsed": true,
    "jupyter": {
     "outputs_hidden": true
    }
   },
   "outputs": [
    {
     "data": {
      "text/plain": [
       "{'status': 'ok',\n",
       " 'totalResults': 3925,\n",
       " 'articles': [{'source': {'id': 'techcrunch', 'name': 'TechCrunch'},\n",
       "   'author': 'David Riggs',\n",
       "   'title': 'Radical Ethereum entrepreneurs are redefining what ‘rape kit’ means',\n",
       "   'description': 'Their investors call them disruptive innovators and detractors. Some call them “dirty scammers.” But the Leda Health co-founders think of themselves as advocates for sexual assault survivors.',\n",
       "   'url': 'http://techcrunch.com/2021/05/04/radical-ethereum-entrepreneurs-are-redefining-what-rape-kit-means/',\n",
       "   'urlToImage': 'https://techcrunch.com/wp-content/uploads/2021/05/created-for-survivors.jpg?w=710',\n",
       "   'publishedAt': '2021-05-04T14:30:39Z',\n",
       "   'content': 'Their investors call them disruptive innovators. Detractors like North Carolina Attorney General Josh Stein call them dirty scammers. But Leda Health co-founders Madison Campbell and Liesel Vaidya th… [+8679 chars]'},\n",
       "  {'source': {'id': None, 'name': 'Lifehacker.com'},\n",
       "   'author': 'Mike Winters',\n",
       "   'title': \"You Can Now Exchange Crypto on Venmo, If You're Into That Sort of Thing\",\n",
       "   'description': 'Cryptocurrency continues to gain mainstream acceptance, as PayPal announced that they have added Bitcoin, Ethereum, Bitcoin Cash, and Litecoin to its Venmo app. With a user base of 70 million, the move will certainly make it easier for people to buy crypto—bu…',\n",
       "   'url': 'https://twocents.lifehacker.com/you-can-now-exchange-crypto-on-venmo-if-youre-into-tha-1846724048',\n",
       "   'urlToImage': 'https://i.kinja-img.com/gawker-media/image/upload/c_fill,f_auto,fl_progressive,g_center,h_675,pg_1,q_80,w_1200/a1qhbu5l9fnqmien6giu.jpg',\n",
       "   'publishedAt': '2021-04-20T19:00:00Z',\n",
       "   'content': 'Cryptocurrency continues to gain mainstream acceptance, as PayPal announced that they have added Bitcoin, Ethereum, Bitcoin Cash, and Litecoin to its Venmo app. With a user base of 70 million, the mo… [+2782 chars]'},\n",
       "  {'source': {'id': 'mashable', 'name': 'Mashable'},\n",
       "   'author': 'Stan Schroeder',\n",
       "   'title': 'Venmo now lets users buy and sell Bitcoin and Ethereum',\n",
       "   'description': 'Venmo is jumping aboard the cryptocurrency bandwagon.\\xa0\\nThe social payment service announced on Tuesday that its customers can now buy, hold, and sell cryptocurrencies within the Venmo app.\\xa0\\nFour cryptocurrencies are currently supported: Bitcoin, Ethereum, Lit…',\n",
       "   'url': 'https://mashable.com/article/venmo-crypto/',\n",
       "   'urlToImage': 'https://mondrian.mashable.com/2021%252F04%252F20%252F25%252F7a02027586334a4d9d29757c0a859526.96c21.jpg%252F1200x630.jpg?signature=I7wBwCsXyeLkGNdX3wFvzAV_v7o=',\n",
       "   'publishedAt': '2021-04-20T11:23:13Z',\n",
       "   'content': 'Venmo is jumping aboard the cryptocurrency bandwagon.\\xa0\\r\\nThe social payment service announced on Tuesday that its customers can now buy, hold, and sell cryptocurrencies within the Venmo app.\\xa0\\r\\nFour cr… [+1524 chars]'},\n",
       "  {'source': {'id': 'cnn', 'name': 'CNN'},\n",
       "   'author': 'Paul R. La Monica, CNN Business',\n",
       "   'title': 'Move over, Bitcoin. Ethereum is at an all-time high',\n",
       "   'description': \"Bitcoin prices continued their rebound Saturday, rising about 6% to nearly $58,000. But the world's largest cryptocurrency has been overshadowed lately by its younger sibling, Ethereum.\",\n",
       "   'url': 'https://www.cnn.com/2021/05/01/investing/ethereum-bitcoin-record-high/index.html',\n",
       "   'urlToImage': 'https://cdn.cnn.com/cnnnext/dam/assets/210501095348-restricted-file-ethereum-2020-super-tease.jpg',\n",
       "   'publishedAt': '2021-05-01T17:24:45Z',\n",
       "   'content': \"New York (CNN Business)Bitcoin prices continued their rebound Saturday, rising about 6% to nearly $58,000. But the world's largest cryptocurrency has been overshadowed lately by its younger sibling, … [+866 chars]\"},\n",
       "  {'source': {'id': 'techcrunch', 'name': 'TechCrunch'},\n",
       "   'author': 'Lucas Matney',\n",
       "   'title': 'CryptoPunks maker Larva Labs launches their new NFT project, Meebits',\n",
       "   'description': 'The creators behind CryptoPunks, one of the most popular NFT projects on the web, just revealed their latest project called Meebits. The project boasts 20,000 procedurally generated 3D characters that are tradeable on the Ethereum blockchain. There have been …',\n",
       "   'url': 'http://techcrunch.com/2021/05/03/cryptopunks-maker-larva-labs-launches-their-new-nft-project-meebits/',\n",
       "   'urlToImage': 'https://techcrunch.com/wp-content/uploads/2021/05/Screen-Shot-2021-05-03-at-11.05.14-AM.png?w=608',\n",
       "   'publishedAt': '2021-05-03T18:08:48Z',\n",
       "   'content': 'The creators behind CryptoPunks, one of the most popular NFT projects on the web, just revealed their latest project called Meebits. The project boasts 20,000 procedurally generated 3D characters tha… [+2000 chars]'},\n",
       "  {'source': {'id': 'techcrunch', 'name': 'TechCrunch'},\n",
       "   'author': 'Mike Butcher',\n",
       "   'title': 'ConsenSys raises $65M from JP Morgan, Mastercard, UBS to build infrastructure for\\xa0DeFi',\n",
       "   'description': 'ConsenSys, a key player in crypto and a major proponent of the Ethereum blockchain, has raised a\\xa0$65 million funding round from\\xa0J.P. Morgan, Mastercard, and UBS AG, as well as major blockchain companies Protocol Labs, the Maker Foundation, Fenbushi, The LAO a…',\n",
       "   'url': 'http://techcrunch.com/2021/04/13/consensys-raises-65m-from-jp-morgan-mastercard-ubs-to-build-infrastructure-for-defi/',\n",
       "   'urlToImage': 'https://techcrunch.com/wp-content/uploads/2018/05/joe-lubin.jpg?w=601',\n",
       "   'publishedAt': '2021-04-13T13:01:02Z',\n",
       "   'content': 'ConsenSys, a key player in crypto and a major proponent of the Ethereum blockchain, has raised a\\xa0$65 million funding round from\\xa0J.P. Morgan, Mastercard, and UBS AG, as well as major blockchain compan… [+8767 chars]'},\n",
       "  {'source': {'id': 'reuters', 'name': 'Reuters'},\n",
       "   'author': 'Reuters Staff',\n",
       "   'title': 'Ethereum breaks past $3,000 - Reuters',\n",
       "   'description': \"Cryptocurrency ether hit a record high of $3,017 on Monday, extending last week's rally in the wake of a report that the European Investment Bank (EIB) could launch a digital bond sale on the ethereum blockchain network.\",\n",
       "   'url': 'https://www.reuters.com/article/us-crypto-currency-ether-idUSKBN2CK035',\n",
       "   'urlToImage': 'https://static.reuters.com/resources/r/?m=02&d=20210503&t=2&i=1560711441&r=LYNXMPEH4201L&w=800',\n",
       "   'publishedAt': '2021-05-03T01:50:00Z',\n",
       "   'content': 'By Reuters Staff\\r\\nFILE PHOTO: A representation of virtual currency Ethereum are seen in front of a stock graph in this illustration taken February 19, 2021. REUTERS/Dado Ruvic/Illustration\\r\\nSINGAPORE… [+748 chars]'},\n",
       "  {'source': {'id': 'reuters', 'name': 'Reuters'},\n",
       "   'author': 'Reuters',\n",
       "   'title': 'Ethereum breaks past $3000 - Reuters',\n",
       "   'description': \"Cryptocurrency ether hit a record high of $3,017 on Monday, extending last week's rally in the wake of a report that the European Investment Bank (EIB) could launch a digital bond sale on the ethereum blockchain network.\",\n",
       "   'url': 'https://www.reuters.com/technology/ethereum-breaks-past-3000-2021-05-03/',\n",
       "   'urlToImage': 'https://www.reuters.com/resizer/Ti-OqWSsRfzr2f9ZRE8jyN1CvUI=/1200x628/smart/cloudfront-us-east-2.images.arcpublishing.com/reuters/KO22TXO2SBIHXCAKOWRLSBQWLU.jpg',\n",
       "   'publishedAt': '2021-05-03T01:50:00Z',\n",
       "   'content': 'A representation of virtual currency Ethereum are seen in front of a stock graph in this illustration taken February 19, 2021. REUTERS/Dado Ruvic/IllustrationCryptocurrency ether hit a record high of… [+760 chars]'},\n",
       "  {'source': {'id': 'mashable', 'name': 'Mashable'},\n",
       "   'author': 'Stan Schroeder',\n",
       "   'title': 'Crypto startup Dfinity takes on Ethereum with launch of Internet Computer',\n",
       "   'description': 'It took a while to get here, but Dfinity is finally launching.\\xa0\\nIn July 2018, I went to the Swiss city of Zug to speak to Dominic Williams, CEO of crypto platform Dfinity. Its blockchain project has impossibly bold branding — they call it \"Internet Computer\" …',\n",
       "   'url': 'https://mashable.com/article/dfinity-internet-computer/',\n",
       "   'urlToImage': 'https://mondrian.mashable.com/2021%252F05%252F07%252Fba%252F0e74f059e3b341488ef62af9ba1a21d3.e9a5c.jpg%252F1200x630.jpg?signature=NqVW0ZW54W31gecv8jLt8f_Y9uE=',\n",
       "   'publishedAt': '2021-05-07T14:00:00Z',\n",
       "   'content': 'It took a while to get here, but Dfinity is finally launching.\\xa0\\r\\nIn July 2018, I went to the Swiss city of Zug to speak to Dominic Williams, CEO of crypto platform Dfinity. Its blockchain project has… [+4319 chars]'},\n",
       "  {'source': {'id': None, 'name': 'Stockmarket.com'},\n",
       "   'author': 'Joe Samuel',\n",
       "   'title': 'Top 5 Things To Watch In The Stock Market This Week',\n",
       "   'description': 'Stock futures rise while Ethereum breaks new ground.',\n",
       "   'url': 'https://stockmarket.com/featured/top-5-things-to-watch-in-the-stock-market-this-week-28-2021-05-03',\n",
       "   'urlToImage': 'https://assets.entrepreneur.com/providers/stockmarket/hero-image-stockmarket-370922.jpeg',\n",
       "   'publishedAt': '2021-05-03T13:21:04Z',\n",
       "   'content': 'This story originally appeared on StockMarketUS Stock Futures Edge Higher On Monday Morning\\r\\nThe U.S. stock futures moved higher in pre-market trading on Monday as investors prepare themselves for th… [+6451 chars]'},\n",
       "  {'source': {'id': None, 'name': 'Entrepreneur'},\n",
       "   'author': 'Entrepreneur en Español',\n",
       "   'title': \"Ethereum co-founder becomes world's youngest billionaire\",\n",
       "   'description': 'Vitalik Buterin, 27, took this title after the rise of Ether.',\n",
       "   'url': 'https://www.entrepreneur.com/article/371086',\n",
       "   'urlToImage': 'https://assets.entrepreneur.com/content/3x2/2000/1620150914-Fundador-de-ethereum.jpg',\n",
       "   'publishedAt': '2021-05-04T17:59:00Z',\n",
       "   'content': 'This article was translated from our Spanish edition using AI technologies. Errors may exist due to this process.\\r\\nCryptocurrencies are the thing of today. Vitalik Buterin , 27-year-old co-founder of… [+831 chars]'},\n",
       "  {'source': {'id': 'engadget', 'name': 'Engadget'},\n",
       "   'author': 'https://www.engadget.com/about/editors/jon-fingas',\n",
       "   'title': 'Topps debuts its first NFT baseball card collection',\n",
       "   'description': 'Topps has released its first NFT baseball card collection, Series 1, bringing MLB cards into the digital era.',\n",
       "   'url': 'https://www.engadget.com/topps-mlb-baseball-card-nft-collection-130630367.html',\n",
       "   'urlToImage': 'https://s.yimg.com/os/creatr-uploaded-images/2021-04/1f1d4990-9b89-11eb-b7f5-03a1f67c35ca',\n",
       "   'publishedAt': '2021-04-12T13:06:30Z',\n",
       "   'content': 'Non-fungible tokens (NFTs) are quickly becoming go-tos for digital collecting, and that now includes something you might have had as a kid: baseball cards. Topps is launching its first NFT-based base… [+1535 chars]'},\n",
       "  {'source': {'id': 'reuters', 'name': 'Reuters'},\n",
       "   'author': 'Reuters Editorial',\n",
       "   'title': 'Bitcoin, ethereum get S&P cryptocurrency indexes - Reuters',\n",
       "   'description': 'The S&P Dow Jones Indices launched new cryptocurrency indexes, further mainstreaming digital currencies including bitcoin and ethereum by bringing them to the trading floors of Wall Street.  Conway G. Gittens has more.',\n",
       "   'url': 'https://www.reuters.com/video/watch/idOVEBJXRIJ',\n",
       "   'urlToImage': 'https://static.reuters.com/resources/r/?d=20210504&i=OVEBJXRIJ&r=OVEBJXRIJ&t=2',\n",
       "   'publishedAt': '2021-05-04T20:40:39Z',\n",
       "   'content': 'Posted \\r\\nThe S&amp;P Dow Jones Indices launched new cryptocurrency indexes, further mainstreaming digital currencies including bitcoin and ethereum by bringing them to the trading floors of Wall Stre… [+30 chars]'},\n",
       "  {'source': {'id': 'reuters', 'name': 'Reuters'},\n",
       "   'author': 'Reuters',\n",
       "   'title': 'Ethereum extends gains to fresh record above $3400 - Reuters',\n",
       "   'description': 'Cryptocurrency ether extended gains to another record peak on Tuesday, after breaking above $3,000 for the first time a day earlier as investors bet on its growing utility.',\n",
       "   'url': 'https://www.reuters.com/technology/ethereum-extends-gains-fresh-record-above-3400-2021-05-04/',\n",
       "   'urlToImage': 'https://www.reuters.com/resizer/Ti-OqWSsRfzr2f9ZRE8jyN1CvUI=/1200x628/smart/cloudfront-us-east-2.images.arcpublishing.com/reuters/KO22TXO2SBIHXCAKOWRLSBQWLU.jpg',\n",
       "   'publishedAt': '2021-05-04T00:02:00Z',\n",
       "   'content': 'A representation of virtual currency Ethereum are seen in front of a stock graph in this illustration taken February 19, 2021. REUTERS/Dado Ruvic/IllustrationCryptocurrency ether extended gains to an… [+632 chars]'},\n",
       "  {'source': {'id': 'reuters', 'name': 'Reuters'},\n",
       "   'author': 'Reuters Staff',\n",
       "   'title': 'Ethereum hits fresh record, eyes $3,000 barrier - Reuters',\n",
       "   'description': \"Cryptocurrency ether hit a record high on Monday to trade within a whisker of $3,000, extending last week's rally in the wake of a report that the European Investment Bank could launch a digital bond sale on the ethereum blockchain network.\",\n",
       "   'url': 'https://www.reuters.com/article/crypto-currency-ether-idUSL4N2MP0KZ',\n",
       "   'urlToImage': 'https://s1.reutersmedia.net/resources_v2/images/rcom-default.png?w=800',\n",
       "   'publishedAt': '2021-05-02T23:13:00Z',\n",
       "   'content': 'By Reuters Staff\\r\\nSINGAPORE, May 3 (Reuters) - Cryptocurrency ether hit a record high on Monday to trade within a whisker of $3,000, extending last weeks rally in the wake of a report that the Europe… [+444 chars]'},\n",
       "  {'source': {'id': 'reuters', 'name': 'Reuters'},\n",
       "   'author': 'Reuters Staff',\n",
       "   'title': 'UPDATE 1-Ethereum hits fresh record, eyes $3,000 barrier - Reuters',\n",
       "   'description': \"Cryptocurrency ether hit a record high on Monday to trade within a whisker of $3,000, extending last week's rally in the wake of a report that the European Investment Bank (EIB) could launch a digital bond sale on the ethereum blockchain network.\",\n",
       "   'url': 'https://www.reuters.com/article/crypto-currency-ether-idUSL1N2MP0IO',\n",
       "   'urlToImage': 'https://s1.reutersmedia.net/resources_v2/images/rcom-default.png?w=800',\n",
       "   'publishedAt': '2021-05-02T23:25:00Z',\n",
       "   'content': 'By Reuters Staff\\r\\n(Adds detail of reported EIB plan and bitcoin price)\\r\\nSINGAPORE, May 3 (Reuters) - Cryptocurrency ether hit a record high on Monday to trade within a whisker of $3,000, extending la… [+684 chars]'},\n",
       "  {'source': {'id': 'reuters', 'name': 'Reuters'},\n",
       "   'author': 'Reuters Staff',\n",
       "   'title': 'Ethereum extends gains to fresh record above $3,400 - Reuters',\n",
       "   'description': 'Cryptocurrency ether extended gains to another record peak on Tuesday, after breaking above $3,000 for the first time a day earlier as investors bet on its growing utility.',\n",
       "   'url': 'https://www.reuters.com/article/us-crypto-currency-ether-idUSKBN2CK24S',\n",
       "   'urlToImage': 'https://static.reuters.com/resources/r/?m=02&d=20210504&t=2&i=1560812423&r=LYNXMPEH4214Z&w=800',\n",
       "   'publishedAt': '2021-05-03T23:56:00Z',\n",
       "   'content': 'By Reuters Staff\\r\\nFILE PHOTO: A representation of virtual currency Ethereum are seen in front of a stock graph in this illustration taken February 19, 2021. REUTERS/Dado Ruvic/Illustration\\r\\nSINGAPORE… [+619 chars]'},\n",
       "  {'source': {'id': 'reuters', 'name': 'Reuters'},\n",
       "   'author': 'Gertrude Chavez-dreyfuss',\n",
       "   'title': 'Analysis: Cryptocurrency ethereum is flourishing but risks linger - Reuters',\n",
       "   'description': 'Ethereum has outperformed major digital currency rivals this year, bolstered by the surge in decentralized finance (DeFi) and the anticipation of a technical adjustment this summer, but it faces hurdles that could stall its rise.',\n",
       "   'url': 'https://www.reuters.com/technology/cryptocurrency-ethereum-is-flourishing-risks-linger-2021-05-07/',\n",
       "   'urlToImage': None,\n",
       "   'publishedAt': '2021-05-07T18:58:00Z',\n",
       "   'content': 'Ethereum has outperformed major digital currency rivals this year, bolstered by the surge in decentralized finance (DeFi) and the anticipation of a technical adjustment this summer, but it faces hurd… [+5218 chars]'},\n",
       "  {'source': {'id': 'reuters', 'name': 'Reuters'},\n",
       "   'author': 'Reuters',\n",
       "   'title': \"Sotheby's to accept bitcoin, ethereum for Banksy auction - Reuters\",\n",
       "   'description': 'Sotheby\\'s said on Tuesday it would accept bitcoin and ethereum as payment for Banksy\\'s iconic artwork \"Love is in the Air\", a first for a physical art auction and the latest sign of growing mainstream acceptance of cryptocurrencies.',\n",
       "   'url': 'https://www.reuters.com/lifestyle/sothebys-accept-bitcoin-ethereum-banksy-auction-2021-05-04/',\n",
       "   'urlToImage': 'https://www.reuters.com/resizer/aSE7E8Q5aehUzsAOPv3SZ5SOdyI=/1200x628/smart/cloudfront-us-east-2.images.arcpublishing.com/reuters/27XBX3SRVZMRLBYLCPCUHPOZCA.jpg',\n",
       "   'publishedAt': '2021-05-04T13:46:00Z',\n",
       "   'content': 'Sotheby\\'s said on Tuesday it would accept bitcoin and ethereum as payment for Banksy\\'s iconic artwork \"Love is in the Air\", a first for a physical art auction and the latest sign of growing mainstrea… [+1176 chars]'},\n",
       "  {'source': {'id': 'reuters', 'name': 'Reuters'},\n",
       "   'author': 'Gertrude Chavez-Dreyfuss',\n",
       "   'title': 'ANALYSIS-Cryptocurrency ethereum is flourishing but risks linger - Reuters',\n",
       "   'description': 'Ethereum has outperformed major digital currency rivals this year, bolstered by the surge in decentralized finance (DeFi) and the anticipation of a technical adjustment this summer, but it faces hurdles that could stall its rise.',\n",
       "   'url': 'https://www.reuters.com/article/crypto-currency-ethereum-idUSL1N2MS11V',\n",
       "   'urlToImage': 'https://s1.reutersmedia.net/resources_v2/images/rcom-default.png?w=800',\n",
       "   'publishedAt': '2021-05-07T18:49:00Z',\n",
       "   'content': 'NEW YORK, May 7 (Reuters) - Ethereum has outperformed major digital currency rivals this year, bolstered by the surge in decentralized finance (DeFi) and the anticipation of a technical adjustment th… [+5345 chars]'}]}"
      ]
     },
     "execution_count": 21,
     "metadata": {},
     "output_type": "execute_result"
    }
   ],
   "source": [
    "# Fetch the Ethereum news articles\n",
    "eth_articles = newsapi.get_everything(q=\"ethereum\", language=\"en\")\n",
    "eth_articles"
   ]
  },
  {
   "cell_type": "code",
   "execution_count": 22,
   "metadata": {},
   "outputs": [
    {
     "ename": "TypeError",
     "evalue": "list indices must be integers or slices, not str",
     "output_type": "error",
     "traceback": [
      "\u001b[1;31m---------------------------------------------------------------------------\u001b[0m",
      "\u001b[1;31mTypeError\u001b[0m                                 Traceback (most recent call last)",
      "\u001b[1;32m<ipython-input-22-27eb60e90b70>\u001b[0m in \u001b[0;36m<module>\u001b[1;34m\u001b[0m\n\u001b[0;32m      3\u001b[0m \u001b[0mbit_sentiments\u001b[0m \u001b[1;33m=\u001b[0m \u001b[1;33m[\u001b[0m\u001b[1;33m]\u001b[0m\u001b[1;33m\u001b[0m\u001b[1;33m\u001b[0m\u001b[0m\n\u001b[0;32m      4\u001b[0m \u001b[1;33m\u001b[0m\u001b[0m\n\u001b[1;32m----> 5\u001b[1;33m \u001b[1;32mfor\u001b[0m \u001b[0marticle\u001b[0m \u001b[1;32min\u001b[0m \u001b[0mbit_sentiments\u001b[0m\u001b[1;33m[\u001b[0m\u001b[1;34m\"articles\"\u001b[0m\u001b[1;33m]\u001b[0m\u001b[1;33m:\u001b[0m\u001b[1;33m\u001b[0m\u001b[1;33m\u001b[0m\u001b[0m\n\u001b[0m\u001b[0;32m      6\u001b[0m     \u001b[1;32mtry\u001b[0m\u001b[1;33m:\u001b[0m\u001b[1;33m\u001b[0m\u001b[1;33m\u001b[0m\u001b[0m\n\u001b[0;32m      7\u001b[0m         \u001b[0mtext\u001b[0m \u001b[1;33m=\u001b[0m \u001b[0marticle\u001b[0m\u001b[1;33m[\u001b[0m\u001b[1;34m\"content\"\u001b[0m\u001b[1;33m]\u001b[0m\u001b[1;33m\u001b[0m\u001b[1;33m\u001b[0m\u001b[0m\n",
      "\u001b[1;31mTypeError\u001b[0m: list indices must be integers or slices, not str"
     ]
    }
   ],
   "source": [
    "# Create the Bitcoin sentiment scores DataFrame\n",
    "# I've been having issues with this code where it gives me a TypeError: list indices must be integers or slices, not str so I may have to pseudocode a lot of this section, sorry in advance!\n",
    "\n",
    "bit_sentiments = []\n",
    "\n",
    "for article in bit_sentiments[\"articles\"]:\n",
    "    try:\n",
    "        text = article[\"content\"]\n",
    "        date = article[\"publishedAt\"][:10]\n",
    "        sentiment = analyzer.polarity_scores(text)\n",
    "        compound = sentiment[\"compound\"]\n",
    "        pos = sentiment[\"pos\"]\n",
    "        neu = sentiment[\"neu\"]\n",
    "        neg = sentiment[\"neg\"]\n",
    "        \n",
    "        libra_sentiments.append({\n",
    "            \"text\": text,\n",
    "            \"date\": date,\n",
    "            \"compound\": compound,\n",
    "            \"positive\": pos,\n",
    "            \"negative\": neg,\n",
    "            \"neutral\": neu\n",
    "            \n",
    "        })\n",
    "        \n",
    "    except AttributeError:\n",
    "        pass\n"
   ]
  },
  {
   "cell_type": "code",
   "execution_count": 23,
   "metadata": {},
   "outputs": [],
   "source": [
    "# Create dataframe for bitcoin\n",
    "\n",
    "bit_df = pd.DataFrame(bit_sentiments)\n",
    "bit_df.head()"
   ]
  },
  {
   "cell_type": "code",
   "execution_count": 24,
   "metadata": {},
   "outputs": [
    {
     "ename": "TypeError",
     "evalue": "list indices must be integers or slices, not str",
     "output_type": "error",
     "traceback": [
      "\u001b[1;31m---------------------------------------------------------------------------\u001b[0m",
      "\u001b[1;31mTypeError\u001b[0m                                 Traceback (most recent call last)",
      "\u001b[1;32m<ipython-input-24-b05b5a7c2698>\u001b[0m in \u001b[0;36m<module>\u001b[1;34m\u001b[0m\n\u001b[0;32m      3\u001b[0m \u001b[0meth_sentiments\u001b[0m \u001b[1;33m=\u001b[0m \u001b[1;33m[\u001b[0m\u001b[1;33m]\u001b[0m\u001b[1;33m\u001b[0m\u001b[1;33m\u001b[0m\u001b[0m\n\u001b[0;32m      4\u001b[0m \u001b[1;33m\u001b[0m\u001b[0m\n\u001b[1;32m----> 5\u001b[1;33m \u001b[1;32mfor\u001b[0m \u001b[0marticle\u001b[0m \u001b[1;32min\u001b[0m \u001b[0mbit_sentiments\u001b[0m\u001b[1;33m[\u001b[0m\u001b[1;34m\"articles\"\u001b[0m\u001b[1;33m]\u001b[0m\u001b[1;33m:\u001b[0m\u001b[1;33m\u001b[0m\u001b[1;33m\u001b[0m\u001b[0m\n\u001b[0m\u001b[0;32m      6\u001b[0m     \u001b[1;32mtry\u001b[0m\u001b[1;33m:\u001b[0m\u001b[1;33m\u001b[0m\u001b[1;33m\u001b[0m\u001b[0m\n\u001b[0;32m      7\u001b[0m         \u001b[0mtext\u001b[0m \u001b[1;33m=\u001b[0m \u001b[0marticle\u001b[0m\u001b[1;33m[\u001b[0m\u001b[1;34m\"content\"\u001b[0m\u001b[1;33m]\u001b[0m\u001b[1;33m\u001b[0m\u001b[1;33m\u001b[0m\u001b[0m\n",
      "\u001b[1;31mTypeError\u001b[0m: list indices must be integers or slices, not str"
     ]
    }
   ],
   "source": [
    "# Create the Ethereum sentiment scores DataFrame\n",
    "\n",
    "eth_sentiments = []\n",
    "\n",
    "for article in bit_sentiments[\"articles\"]:\n",
    "    try:\n",
    "        text = article[\"content\"]\n",
    "        date = article[\"publishedAt\"][:10]\n",
    "        sentiment = analyzer.polarity_scores(text)\n",
    "        compound = sentiment[\"compound\"]\n",
    "        pos = sentiment[\"pos\"]\n",
    "        neu = sentiment[\"neu\"]\n",
    "        neg = sentiment[\"neg\"]\n",
    "        \n",
    "        libra_sentiments.append({\n",
    "            \"text\": text,\n",
    "            \"date\": date,\n",
    "            \"compound\": compound,\n",
    "            \"positive\": pos,\n",
    "            \"negative\": neg,\n",
    "            \"neutral\": neu\n",
    "            \n",
    "        })\n",
    "        \n",
    "    except AttributeError:\n",
    "        pass\n",
    "    \n",
    "eth_df = pd.DataFrame(eth_sentiments)\n",
    "eth_df.head()"
   ]
  },
  {
   "cell_type": "code",
   "execution_count": 8,
   "metadata": {},
   "outputs": [],
   "source": [
    "# Describe the Bitcoin Sentiment\n",
    "# YOUR CODE HERE!"
   ]
  },
  {
   "cell_type": "code",
   "execution_count": 9,
   "metadata": {},
   "outputs": [],
   "source": [
    "# Describe the Ethereum Sentiment\n",
    "# YOUR CODE HERE!"
   ]
  },
  {
   "cell_type": "markdown",
   "metadata": {},
   "source": [
    "### Questions:\n",
    "\n",
    "Q: Which coin had the highest mean positive score?\n",
    "\n",
    "A: *I wasn't able to get results for either because of the type error from my function to calculate the sentiment for both Bitcoin and Ethereum\n",
    "\n",
    "Q: Which coin had the highest compound score?\n",
    "\n",
    "A: \n",
    "\n",
    "Q. Which coin had the highest positive score?\n",
    "\n",
    "A: "
   ]
  },
  {
   "cell_type": "markdown",
   "metadata": {},
   "source": [
    "---"
   ]
  },
  {
   "cell_type": "markdown",
   "metadata": {},
   "source": [
    "## 2. Natural Language Processing\n",
    "---\n",
    "###   Tokenizer\n",
    "\n",
    "In this section, you will use NLTK and Python to tokenize the text for each coin. Be sure to:\n",
    "1. Lowercase each word.\n",
    "2. Remove Punctuation.\n",
    "3. Remove Stopwords."
   ]
  },
  {
   "cell_type": "code",
   "execution_count": 26,
   "metadata": {},
   "outputs": [],
   "source": [
    "from nltk.tokenize import word_tokenize, sent_tokenize\n",
    "from nltk.corpus import stopwords\n",
    "from nltk.stem import WordNetLemmatizer, PorterStemmer\n",
    "from string import punctuation\n",
    "import re"
   ]
  },
  {
   "cell_type": "code",
   "execution_count": 27,
   "metadata": {},
   "outputs": [],
   "source": [
    "# Instantiate the lemmatizer\n",
    "lemmatizer = WordNetLemmatizer()\n",
    "\n",
    "# Create a list of stopwords\n",
    "sw = set(stopwords.words('english'))\n",
    "\n",
    "# Expand the default stopwords list if necessary\n",
    "# sw_addon = {'said', 'mln', 'kilolitres','kl'}"
   ]
  },
  {
   "cell_type": "code",
   "execution_count": 28,
   "metadata": {},
   "outputs": [],
   "source": [
    "# Complete the tokenizer function\n",
    "def tokenizer(text):\n",
    "    \"\"\"Tokenizes text.\"\"\"\n",
    "    \n",
    "    # Remove the punctuation from text\n",
    "    regex = re.compile(\"[^a-zA-Z ]\")\n",
    "\n",
    "   \n",
    "    # Create a tokenized list of the words\n",
    "    re_clean = regex.sub('', article)\n",
    "    words = word_tokenize(re_clean)\n",
    "    \n",
    "    \n",
    "    # Lemmatize words into root words\n",
    "    lem = [lemmatizer.lemmatize(word) for word in words]\n",
    "\n",
    "   \n",
    "    # Convert the words to lowercase\n",
    "    output = [word.lower() for word in lem if word.lower() not in sw]\n",
    "    \n",
    "    \n",
    "    # Remove the stop words\n",
    "    sw = set(stopwords.words('english'))\n",
    "    \n",
    "    \n",
    "    return tokens"
   ]
  },
  {
   "cell_type": "code",
   "execution_count": 13,
   "metadata": {},
   "outputs": [],
   "source": [
    "# Create a new tokens column for Bitcoin\n",
    "# Are the tokens supposed to be each of the tasks above in the function? Like\n",
    "    # token = [lemmatizer.lemmatize(word) for word in words]?"
   ]
  },
  {
   "cell_type": "code",
   "execution_count": 14,
   "metadata": {},
   "outputs": [],
   "source": [
    "# Create a new tokens column for Ethereum"
   ]
  },
  {
   "cell_type": "markdown",
   "metadata": {},
   "source": [
    "---"
   ]
  },
  {
   "cell_type": "markdown",
   "metadata": {},
   "source": [
    "### NGrams and Frequency Analysis\n",
    "\n",
    "In this section you will look at the ngrams and word frequency for each coin. \n",
    "\n",
    "1. Use NLTK to produce the n-grams for N = 2. \n",
    "2. List the top 10 words for each coin. "
   ]
  },
  {
   "cell_type": "code",
   "execution_count": 29,
   "metadata": {},
   "outputs": [],
   "source": [
    "from collections import Counter\n",
    "from nltk import ngrams"
   ]
  },
  {
   "cell_type": "code",
   "execution_count": 30,
   "metadata": {},
   "outputs": [
    {
     "ename": "NameError",
     "evalue": "name 'processed' is not defined",
     "output_type": "error",
     "traceback": [
      "\u001b[1;31m---------------------------------------------------------------------------\u001b[0m",
      "\u001b[1;31mNameError\u001b[0m                                 Traceback (most recent call last)",
      "\u001b[1;32m<ipython-input-30-9823dcd1187d>\u001b[0m in \u001b[0;36m<module>\u001b[1;34m\u001b[0m\n\u001b[0;32m      1\u001b[0m \u001b[1;31m# Generate the Bitcoin N-grams where N=2\u001b[0m\u001b[1;33m\u001b[0m\u001b[1;33m\u001b[0m\u001b[1;33m\u001b[0m\u001b[0m\n\u001b[1;32m----> 2\u001b[1;33m \u001b[0mbigram_counts\u001b[0m \u001b[1;33m=\u001b[0m \u001b[0mCounter\u001b[0m\u001b[1;33m(\u001b[0m\u001b[0mngrams\u001b[0m\u001b[1;33m(\u001b[0m\u001b[0mprocessed\u001b[0m\u001b[1;33m,\u001b[0m \u001b[0mn\u001b[0m\u001b[1;33m=\u001b[0m\u001b[1;36m2\u001b[0m\u001b[1;33m)\u001b[0m\u001b[1;33m)\u001b[0m\u001b[1;33m\u001b[0m\u001b[1;33m\u001b[0m\u001b[0m\n\u001b[0m",
      "\u001b[1;31mNameError\u001b[0m: name 'processed' is not defined"
     ]
    }
   ],
   "source": [
    "# Generate the Bitcoin N-grams where N=2\n",
    "bigram_bit = Counter(ngrams(bit_tokens, n=2))"
   ]
  },
  {
   "cell_type": "code",
   "execution_count": 17,
   "metadata": {},
   "outputs": [],
   "source": [
    "# Generate the Ethereum N-grams where N=2\n",
    "bigram_eth = Counter(ngrams(eth_tokens, n=2))"
   ]
  },
  {
   "cell_type": "code",
   "execution_count": 18,
   "metadata": {},
   "outputs": [],
   "source": [
    "# Function token_count generates the top 10 words for a given coin\n",
    "def token_count(tokens, N=3):\n",
    "    \"\"\"Returns the top N tokens from the frequency count\"\"\"\n",
    "    return Counter(tokens).most_common(N)"
   ]
  },
  {
   "cell_type": "code",
   "execution_count": 19,
   "metadata": {},
   "outputs": [],
   "source": [
    "# Use token_count to get the top 10 words for Bitcoin\n",
    "bigram_bit.most_common(10)"
   ]
  },
  {
   "cell_type": "code",
   "execution_count": 20,
   "metadata": {},
   "outputs": [],
   "source": [
    "# Use token_count to get the top 10 words for Ethereum\n",
    "bigram_eth.most_common(10)"
   ]
  },
  {
   "cell_type": "markdown",
   "metadata": {},
   "source": [
    "---"
   ]
  },
  {
   "cell_type": "markdown",
   "metadata": {},
   "source": [
    "### Word Clouds\n",
    "\n",
    "In this section, you will generate word clouds for each coin to summarize the news for each coin"
   ]
  },
  {
   "cell_type": "code",
   "execution_count": 36,
   "metadata": {},
   "outputs": [],
   "source": [
    "from wordcloud import WordCloud\n",
    "import matplotlib.pyplot as plt\n",
    "plt.style.use('seaborn-whitegrid')\n",
    "import matplotlib as mpl\n",
    "mpl.rcParams['figure.figsize'] = [20.0, 10.0]\n",
    "\n",
    "from spacy import displacy"
   ]
  },
  {
   "cell_type": "code",
   "execution_count": 38,
   "metadata": {},
   "outputs": [
    {
     "ename": "AttributeError",
     "evalue": "'dict' object has no attribute 'ents'",
     "output_type": "error",
     "traceback": [
      "\u001b[1;31m---------------------------------------------------------------------------\u001b[0m",
      "\u001b[1;31mAttributeError\u001b[0m                            Traceback (most recent call last)",
      "\u001b[1;32m<ipython-input-38-ead54cd1261d>\u001b[0m in \u001b[0;36m<module>\u001b[1;34m\u001b[0m\n\u001b[0;32m      1\u001b[0m \u001b[1;31m# Generate the Bitcoin word cloud\u001b[0m\u001b[1;33m\u001b[0m\u001b[1;33m\u001b[0m\u001b[1;33m\u001b[0m\u001b[0m\n\u001b[1;32m----> 2\u001b[1;33m \u001b[0mdisplacy\u001b[0m\u001b[1;33m.\u001b[0m\u001b[0mrender\u001b[0m\u001b[1;33m(\u001b[0m\u001b[0mbit_articles\u001b[0m\u001b[1;33m,\u001b[0m \u001b[0mstyle\u001b[0m\u001b[1;33m=\u001b[0m\u001b[1;34m'ent'\u001b[0m\u001b[1;33m)\u001b[0m\u001b[1;33m\u001b[0m\u001b[1;33m\u001b[0m\u001b[0m\n\u001b[0m\u001b[0;32m      3\u001b[0m \u001b[0mentities\u001b[0m \u001b[1;33m=\u001b[0m \u001b[1;33m[\u001b[0m\u001b[0ment\u001b[0m\u001b[1;33m.\u001b[0m\u001b[0mtext\u001b[0m \u001b[1;32mfor\u001b[0m \u001b[0ment\u001b[0m \u001b[1;32min\u001b[0m \u001b[0mdoc\u001b[0m\u001b[1;33m.\u001b[0m\u001b[0ments\u001b[0m \u001b[1;32mif\u001b[0m \u001b[0ment\u001b[0m\u001b[1;33m.\u001b[0m\u001b[0mlabel_\u001b[0m \u001b[1;32min\u001b[0m \u001b[1;33m[\u001b[0m\u001b[1;34m'GPE'\u001b[0m\u001b[1;33m,\u001b[0m \u001b[1;34m'ORG'\u001b[0m\u001b[1;33m]\u001b[0m\u001b[1;33m]\u001b[0m\u001b[1;33m\u001b[0m\u001b[1;33m\u001b[0m\u001b[0m\n\u001b[0;32m      4\u001b[0m \u001b[0mentities\u001b[0m \u001b[1;33m=\u001b[0m \u001b[1;33m[\u001b[0m\u001b[0mi\u001b[0m\u001b[1;33m.\u001b[0m\u001b[0mlower\u001b[0m\u001b[1;33m(\u001b[0m\u001b[1;33m)\u001b[0m\u001b[1;33m.\u001b[0m\u001b[0mreplace\u001b[0m\u001b[1;33m(\u001b[0m\u001b[1;34m' '\u001b[0m\u001b[1;33m,\u001b[0m \u001b[1;34m'_'\u001b[0m\u001b[1;33m)\u001b[0m \u001b[1;32mfor\u001b[0m \u001b[0mi\u001b[0m \u001b[1;32min\u001b[0m \u001b[0mentities\u001b[0m\u001b[1;33m]\u001b[0m\u001b[1;33m\u001b[0m\u001b[1;33m\u001b[0m\u001b[0m\n\u001b[0;32m      5\u001b[0m \u001b[0mwc\u001b[0m \u001b[1;33m=\u001b[0m \u001b[0mWordCloud\u001b[0m\u001b[1;33m(\u001b[0m\u001b[1;33m)\u001b[0m\u001b[1;33m.\u001b[0m\u001b[0mgenerate\u001b[0m\u001b[1;33m(\u001b[0m\u001b[1;34m' '\u001b[0m\u001b[1;33m.\u001b[0m\u001b[0mjoin\u001b[0m\u001b[1;33m(\u001b[0m\u001b[0mentities\u001b[0m\u001b[1;33m)\u001b[0m\u001b[1;33m)\u001b[0m\u001b[1;33m\u001b[0m\u001b[1;33m\u001b[0m\u001b[0m\n",
      "\u001b[1;32m~\\anaconda3\\envs\\pyvizenv\\lib\\site-packages\\spacy\\displacy\\__init__.py\u001b[0m in \u001b[0;36mrender\u001b[1;34m(docs, style, page, minify, jupyter, options, manual)\u001b[0m\n\u001b[0;32m     54\u001b[0m     \u001b[0mrenderer_func\u001b[0m\u001b[1;33m,\u001b[0m \u001b[0mconverter\u001b[0m \u001b[1;33m=\u001b[0m \u001b[0mfactories\u001b[0m\u001b[1;33m[\u001b[0m\u001b[0mstyle\u001b[0m\u001b[1;33m]\u001b[0m\u001b[1;33m\u001b[0m\u001b[1;33m\u001b[0m\u001b[0m\n\u001b[0;32m     55\u001b[0m     \u001b[0mrenderer\u001b[0m \u001b[1;33m=\u001b[0m \u001b[0mrenderer_func\u001b[0m\u001b[1;33m(\u001b[0m\u001b[0moptions\u001b[0m\u001b[1;33m=\u001b[0m\u001b[0moptions\u001b[0m\u001b[1;33m)\u001b[0m\u001b[1;33m\u001b[0m\u001b[1;33m\u001b[0m\u001b[0m\n\u001b[1;32m---> 56\u001b[1;33m     \u001b[0mparsed\u001b[0m \u001b[1;33m=\u001b[0m \u001b[1;33m[\u001b[0m\u001b[0mconverter\u001b[0m\u001b[1;33m(\u001b[0m\u001b[0mdoc\u001b[0m\u001b[1;33m,\u001b[0m \u001b[0moptions\u001b[0m\u001b[1;33m)\u001b[0m \u001b[1;32mfor\u001b[0m \u001b[0mdoc\u001b[0m \u001b[1;32min\u001b[0m \u001b[0mdocs\u001b[0m\u001b[1;33m]\u001b[0m \u001b[1;32mif\u001b[0m \u001b[1;32mnot\u001b[0m \u001b[0mmanual\u001b[0m \u001b[1;32melse\u001b[0m \u001b[0mdocs\u001b[0m\u001b[1;33m\u001b[0m\u001b[1;33m\u001b[0m\u001b[0m\n\u001b[0m\u001b[0;32m     57\u001b[0m     \u001b[0m_html\u001b[0m\u001b[1;33m[\u001b[0m\u001b[1;34m\"parsed\"\u001b[0m\u001b[1;33m]\u001b[0m \u001b[1;33m=\u001b[0m \u001b[0mrenderer\u001b[0m\u001b[1;33m.\u001b[0m\u001b[0mrender\u001b[0m\u001b[1;33m(\u001b[0m\u001b[0mparsed\u001b[0m\u001b[1;33m,\u001b[0m \u001b[0mpage\u001b[0m\u001b[1;33m=\u001b[0m\u001b[0mpage\u001b[0m\u001b[1;33m,\u001b[0m \u001b[0mminify\u001b[0m\u001b[1;33m=\u001b[0m\u001b[0mminify\u001b[0m\u001b[1;33m)\u001b[0m\u001b[1;33m.\u001b[0m\u001b[0mstrip\u001b[0m\u001b[1;33m(\u001b[0m\u001b[1;33m)\u001b[0m\u001b[1;33m\u001b[0m\u001b[1;33m\u001b[0m\u001b[0m\n\u001b[0;32m     58\u001b[0m     \u001b[0mhtml\u001b[0m \u001b[1;33m=\u001b[0m \u001b[0m_html\u001b[0m\u001b[1;33m[\u001b[0m\u001b[1;34m\"parsed\"\u001b[0m\u001b[1;33m]\u001b[0m\u001b[1;33m\u001b[0m\u001b[1;33m\u001b[0m\u001b[0m\n",
      "\u001b[1;32m~\\anaconda3\\envs\\pyvizenv\\lib\\site-packages\\spacy\\displacy\\__init__.py\u001b[0m in \u001b[0;36m<listcomp>\u001b[1;34m(.0)\u001b[0m\n\u001b[0;32m     54\u001b[0m     \u001b[0mrenderer_func\u001b[0m\u001b[1;33m,\u001b[0m \u001b[0mconverter\u001b[0m \u001b[1;33m=\u001b[0m \u001b[0mfactories\u001b[0m\u001b[1;33m[\u001b[0m\u001b[0mstyle\u001b[0m\u001b[1;33m]\u001b[0m\u001b[1;33m\u001b[0m\u001b[1;33m\u001b[0m\u001b[0m\n\u001b[0;32m     55\u001b[0m     \u001b[0mrenderer\u001b[0m \u001b[1;33m=\u001b[0m \u001b[0mrenderer_func\u001b[0m\u001b[1;33m(\u001b[0m\u001b[0moptions\u001b[0m\u001b[1;33m=\u001b[0m\u001b[0moptions\u001b[0m\u001b[1;33m)\u001b[0m\u001b[1;33m\u001b[0m\u001b[1;33m\u001b[0m\u001b[0m\n\u001b[1;32m---> 56\u001b[1;33m     \u001b[0mparsed\u001b[0m \u001b[1;33m=\u001b[0m \u001b[1;33m[\u001b[0m\u001b[0mconverter\u001b[0m\u001b[1;33m(\u001b[0m\u001b[0mdoc\u001b[0m\u001b[1;33m,\u001b[0m \u001b[0moptions\u001b[0m\u001b[1;33m)\u001b[0m \u001b[1;32mfor\u001b[0m \u001b[0mdoc\u001b[0m \u001b[1;32min\u001b[0m \u001b[0mdocs\u001b[0m\u001b[1;33m]\u001b[0m \u001b[1;32mif\u001b[0m \u001b[1;32mnot\u001b[0m \u001b[0mmanual\u001b[0m \u001b[1;32melse\u001b[0m \u001b[0mdocs\u001b[0m\u001b[1;33m\u001b[0m\u001b[1;33m\u001b[0m\u001b[0m\n\u001b[0m\u001b[0;32m     57\u001b[0m     \u001b[0m_html\u001b[0m\u001b[1;33m[\u001b[0m\u001b[1;34m\"parsed\"\u001b[0m\u001b[1;33m]\u001b[0m \u001b[1;33m=\u001b[0m \u001b[0mrenderer\u001b[0m\u001b[1;33m.\u001b[0m\u001b[0mrender\u001b[0m\u001b[1;33m(\u001b[0m\u001b[0mparsed\u001b[0m\u001b[1;33m,\u001b[0m \u001b[0mpage\u001b[0m\u001b[1;33m=\u001b[0m\u001b[0mpage\u001b[0m\u001b[1;33m,\u001b[0m \u001b[0mminify\u001b[0m\u001b[1;33m=\u001b[0m\u001b[0mminify\u001b[0m\u001b[1;33m)\u001b[0m\u001b[1;33m.\u001b[0m\u001b[0mstrip\u001b[0m\u001b[1;33m(\u001b[0m\u001b[1;33m)\u001b[0m\u001b[1;33m\u001b[0m\u001b[1;33m\u001b[0m\u001b[0m\n\u001b[0;32m     58\u001b[0m     \u001b[0mhtml\u001b[0m \u001b[1;33m=\u001b[0m \u001b[0m_html\u001b[0m\u001b[1;33m[\u001b[0m\u001b[1;34m\"parsed\"\u001b[0m\u001b[1;33m]\u001b[0m\u001b[1;33m\u001b[0m\u001b[1;33m\u001b[0m\u001b[0m\n",
      "\u001b[1;32m~\\anaconda3\\envs\\pyvizenv\\lib\\site-packages\\spacy\\displacy\\__init__.py\u001b[0m in \u001b[0;36mparse_ents\u001b[1;34m(doc, options)\u001b[0m\n\u001b[0;32m    184\u001b[0m     ents = [\n\u001b[0;32m    185\u001b[0m         \u001b[1;33m{\u001b[0m\u001b[1;34m\"start\"\u001b[0m\u001b[1;33m:\u001b[0m \u001b[0ment\u001b[0m\u001b[1;33m.\u001b[0m\u001b[0mstart_char\u001b[0m\u001b[1;33m,\u001b[0m \u001b[1;34m\"end\"\u001b[0m\u001b[1;33m:\u001b[0m \u001b[0ment\u001b[0m\u001b[1;33m.\u001b[0m\u001b[0mend_char\u001b[0m\u001b[1;33m,\u001b[0m \u001b[1;34m\"label\"\u001b[0m\u001b[1;33m:\u001b[0m \u001b[0ment\u001b[0m\u001b[1;33m.\u001b[0m\u001b[0mlabel_\u001b[0m\u001b[1;33m}\u001b[0m\u001b[1;33m\u001b[0m\u001b[1;33m\u001b[0m\u001b[0m\n\u001b[1;32m--> 186\u001b[1;33m         \u001b[1;32mfor\u001b[0m \u001b[0ment\u001b[0m \u001b[1;32min\u001b[0m \u001b[0mdoc\u001b[0m\u001b[1;33m.\u001b[0m\u001b[0ments\u001b[0m\u001b[1;33m\u001b[0m\u001b[1;33m\u001b[0m\u001b[0m\n\u001b[0m\u001b[0;32m    187\u001b[0m     ]\n\u001b[0;32m    188\u001b[0m     \u001b[1;32mif\u001b[0m \u001b[1;32mnot\u001b[0m \u001b[0ments\u001b[0m\u001b[1;33m:\u001b[0m\u001b[1;33m\u001b[0m\u001b[1;33m\u001b[0m\u001b[0m\n",
      "\u001b[1;31mAttributeError\u001b[0m: 'dict' object has no attribute 'ents'"
     ]
    }
   ],
   "source": [
    "# Generate the Bitcoin word cloud\n",
    "# I'm not sure if this is different than the NER wordclouds so I took a guess\n",
    "wordcloud = WordCloud().generate(bit_articles)\n",
    "plt.imshow(wordcloud, interpolation='bilinear')\n",
    "plt.axis(\"off\")\n",
    "plt.show()"
   ]
  },
  {
   "cell_type": "code",
   "execution_count": 23,
   "metadata": {},
   "outputs": [],
   "source": [
    "# Generate the Ethereum word cloud\n",
    "wordcloud = WordCloud().generate(eth_articles)\n",
    "plt.imshow(wordcloud, interpolation='bilinear')\n",
    "plt.axis(\"off\")\n",
    "plt.show()"
   ]
  },
  {
   "cell_type": "markdown",
   "metadata": {},
   "source": [
    "---\n",
    "## 3. Named Entity Recognition\n",
    "\n",
    "In this section, you will build a named entity recognition model for both Bitcoin and Ethereum, then visualize the tags using SpaCy."
   ]
  },
  {
   "cell_type": "code",
   "execution_count": 24,
   "metadata": {},
   "outputs": [],
   "source": [
    "import spacy\n",
    "from spacy import displacy"
   ]
  },
  {
   "cell_type": "code",
   "execution_count": 25,
   "metadata": {},
   "outputs": [],
   "source": [
    "# Download the language model for SpaCy\n",
    "# !python -m spacy download en_core_web_sm"
   ]
  },
  {
   "cell_type": "code",
   "execution_count": 26,
   "metadata": {},
   "outputs": [],
   "source": [
    "# Load the spaCy model\n",
    "nlp = spacy.load('en_core_web_sm')"
   ]
  },
  {
   "cell_type": "markdown",
   "metadata": {},
   "source": [
    "---\n",
    "### Bitcoin NER"
   ]
  },
  {
   "cell_type": "code",
   "execution_count": 27,
   "metadata": {},
   "outputs": [],
   "source": [
    "# Concatenate all of the Bitcoin text together\n",
    "# Run the NER processor on all of the text\n",
    "# Add a title to the document\n",
    "# Render the visualization\n",
    "# List all Entities\n",
    "displacy.render(bit_articles, style='ent')\n",
    "entities = [ent.text for ent in doc.ents if ent.label_ in ['GPE', 'ORG']]\n",
    "entities = [i.lower().replace(' ', '_') for i in entities]\n",
    "wc = WordCloud().generate(' '.join(entities))\n",
    "plt.imshow(wc)"
   ]
  },
  {
   "cell_type": "markdown",
   "metadata": {},
   "source": [
    "---"
   ]
  },
  {
   "cell_type": "markdown",
   "metadata": {},
   "source": [
    "### Ethereum NER"
   ]
  },
  {
   "cell_type": "code",
   "execution_count": 31,
   "metadata": {},
   "outputs": [],
   "source": [
    "# Concatenate all of the Ethereum text together\n",
    "# Run the NER processor on all of the text\n",
    "# Add a title to the document\n",
    "# Render the visualization\n",
    "# List all Entities\n",
    "displacy.render(eth_articles, style='ent')\n",
    "entities = [ent.text for ent in doc.ents if ent.label_ in ['GPE', 'ORG']]\n",
    "entities = [i.lower().replace(' ', '_') for i in entities]\n",
    "wc = WordCloud().generate(' '.join(entities))\n",
    "plt.imshow(wc)"
   ]
  },
  {
   "cell_type": "markdown",
   "metadata": {},
   "source": [
    "---"
   ]
  }
 ],
 "metadata": {
  "file_extension": ".py",
  "kernelspec": {
   "display_name": "Python 3",
   "language": "python",
   "name": "python3"
  },
  "language_info": {
   "codemirror_mode": {
    "name": "ipython",
    "version": 3
   },
   "file_extension": ".py",
   "mimetype": "text/x-python",
   "name": "python",
   "nbconvert_exporter": "python",
   "pygments_lexer": "ipython3",
   "version": "3.7.9"
  },
  "mimetype": "text/x-python",
  "name": "python",
  "npconvert_exporter": "python",
  "pygments_lexer": "ipython3",
  "version": 3
 },
 "nbformat": 4,
 "nbformat_minor": 4
}
